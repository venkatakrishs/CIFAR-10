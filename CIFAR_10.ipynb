{
  "nbformat": 4,
  "nbformat_minor": 0,
  "metadata": {
    "colab": {
      "name": "CIFAR-10.ipynb",
      "version": "0.3.2",
      "provenance": [],
      "include_colab_link": true
    },
    "kernelspec": {
      "name": "python3",
      "display_name": "Python 3"
    },
    "accelerator": "GPU"
  },
  "cells": [
    {
      "cell_type": "markdown",
      "metadata": {
        "id": "view-in-github",
        "colab_type": "text"
      },
      "source": [
        "<a href=\"https://colab.research.google.com/github/venkatakrishs/CIFAR-10/blob/master/CIFAR_10.ipynb\" target=\"_parent\"><img src=\"https://colab.research.google.com/assets/colab-badge.svg\" alt=\"Open In Colab\"/></a>"
      ]
    },
    {
      "cell_type": "code",
      "metadata": {
        "id": "h2VYwtoTuWu0",
        "colab_type": "code",
        "colab": {}
      },
      "source": [
        "import keras\n",
        "from keras.datasets import cifar10\n",
        "from keras.models import Sequential\n",
        "from keras.layers import Dense, Dropout, Activation, Flatten\n",
        "from keras.layers import Conv2D, MaxPooling2D\n",
        "import matplotlib.pyplot as plt"
      ],
      "execution_count": 0,
      "outputs": []
    },
    {
      "cell_type": "code",
      "metadata": {
        "id": "yURaioqcubzm",
        "colab_type": "code",
        "colab": {}
      },
      "source": [
        "batch_size = 32\n",
        "num_classes = 10\n",
        "epochs = 100\n",
        "num_predictions = 20"
      ],
      "execution_count": 0,
      "outputs": []
    },
    {
      "cell_type": "code",
      "metadata": {
        "id": "3FysK0k1uiuG",
        "colab_type": "code",
        "outputId": "1848f8cd-2b5a-4954-d89a-6482b809a7dc",
        "colab": {
          "base_uri": "https://localhost:8080/",
          "height": 68
        }
      },
      "source": [
        "(x_train, y_train), (x_test, y_test) = cifar10.load_data()\n",
        "print('x_train shape:', x_train.shape)\n",
        "print(x_train.shape[0], 'train samples')\n",
        "print(x_test.shape[0], 'test samples')\n",
        "x_train = x_train.astype('float32')\n",
        "x_test = x_test.astype('float32')\n",
        "x_train /= 255\n",
        "x_test /= 255\n",
        "#print(x_train.shape[1:])"
      ],
      "execution_count": 18,
      "outputs": [
        {
          "output_type": "stream",
          "text": [
            "x_train shape: (50000, 32, 32, 3)\n",
            "50000 train samples\n",
            "10000 test samples\n"
          ],
          "name": "stdout"
        }
      ]
    },
    {
      "cell_type": "code",
      "metadata": {
        "id": "2vs35cAFumIN",
        "colab_type": "code",
        "colab": {}
      },
      "source": [
        "model = Sequential()\n",
        "model.add(Conv2D(32, (3, 3), padding='same',input_shape=x_train.shape[1:]))\n",
        "model.add(Activation('relu'))\n",
        "model.add(Conv2D(32, (3, 3)))\n",
        "model.add(Activation('relu'))\n",
        "model.add(MaxPooling2D(pool_size=(2, 2)))\n",
        "model.add(Dropout(0.25))\n",
        "\n",
        "model.add(Conv2D(64, (3, 3), padding='same'))\n",
        "model.add(Activation('relu'))\n",
        "model.add(Conv2D(64, (3, 3)))\n",
        "model.add(Activation('relu'))\n",
        "model.add(MaxPooling2D(pool_size=(2, 2)))\n",
        "model.add(Dropout(0.25))\n",
        "\n",
        "model.add(Flatten())\n",
        "model.add(Dense(512))\n",
        "model.add(Activation('relu'))\n",
        "model.add(Dropout(0.5))\n",
        "model.add(Dense(num_classes))\n",
        "model.add(Activation('softmax'))"
      ],
      "execution_count": 0,
      "outputs": []
    },
    {
      "cell_type": "code",
      "metadata": {
        "id": "2lfkLFPlD0VS",
        "colab_type": "code",
        "colab": {
          "base_uri": "https://localhost:8080/",
          "height": 748
        },
        "outputId": "7e078ee1-e0c7-4103-c88a-ecfc5147012f"
      },
      "source": [
        "model.summary()"
      ],
      "execution_count": 26,
      "outputs": [
        {
          "output_type": "stream",
          "text": [
            "_________________________________________________________________\n",
            "Layer (type)                 Output Shape              Param #   \n",
            "=================================================================\n",
            "conv2d_5 (Conv2D)            (None, 32, 32, 32)        896       \n",
            "_________________________________________________________________\n",
            "activation_7 (Activation)    (None, 32, 32, 32)        0         \n",
            "_________________________________________________________________\n",
            "conv2d_6 (Conv2D)            (None, 30, 30, 32)        9248      \n",
            "_________________________________________________________________\n",
            "activation_8 (Activation)    (None, 30, 30, 32)        0         \n",
            "_________________________________________________________________\n",
            "max_pooling2d_3 (MaxPooling2 (None, 15, 15, 32)        0         \n",
            "_________________________________________________________________\n",
            "dropout_4 (Dropout)          (None, 15, 15, 32)        0         \n",
            "_________________________________________________________________\n",
            "conv2d_7 (Conv2D)            (None, 15, 15, 64)        18496     \n",
            "_________________________________________________________________\n",
            "activation_9 (Activation)    (None, 15, 15, 64)        0         \n",
            "_________________________________________________________________\n",
            "conv2d_8 (Conv2D)            (None, 13, 13, 64)        36928     \n",
            "_________________________________________________________________\n",
            "activation_10 (Activation)   (None, 13, 13, 64)        0         \n",
            "_________________________________________________________________\n",
            "max_pooling2d_4 (MaxPooling2 (None, 6, 6, 64)          0         \n",
            "_________________________________________________________________\n",
            "dropout_5 (Dropout)          (None, 6, 6, 64)          0         \n",
            "_________________________________________________________________\n",
            "flatten_2 (Flatten)          (None, 2304)              0         \n",
            "_________________________________________________________________\n",
            "dense_3 (Dense)              (None, 512)               1180160   \n",
            "_________________________________________________________________\n",
            "activation_11 (Activation)   (None, 512)               0         \n",
            "_________________________________________________________________\n",
            "dropout_6 (Dropout)          (None, 512)               0         \n",
            "_________________________________________________________________\n",
            "dense_4 (Dense)              (None, 10)                5130      \n",
            "_________________________________________________________________\n",
            "activation_12 (Activation)   (None, 10)                0         \n",
            "=================================================================\n",
            "Total params: 1,250,858\n",
            "Trainable params: 1,250,858\n",
            "Non-trainable params: 0\n",
            "_________________________________________________________________\n"
          ],
          "name": "stdout"
        }
      ]
    },
    {
      "cell_type": "code",
      "metadata": {
        "id": "I72SPqq2u40t",
        "colab_type": "code",
        "colab": {}
      },
      "source": [
        "opt = keras.optimizers.rmsprop(lr=0.0001, decay=1e-6)"
      ],
      "execution_count": 0,
      "outputs": []
    },
    {
      "cell_type": "code",
      "metadata": {
        "id": "uRijPup8u5fy",
        "colab_type": "code",
        "colab": {}
      },
      "source": [
        "model.compile(loss='sparse_categorical_crossentropy',optimizer=opt,metrics=['accuracy'])"
      ],
      "execution_count": 0,
      "outputs": []
    },
    {
      "cell_type": "code",
      "metadata": {
        "id": "bto2WyotwZqB",
        "colab_type": "code",
        "outputId": "ce54589a-5d02-4652-b597-05c54964383c",
        "colab": {
          "base_uri": "https://localhost:8080/",
          "height": 1000
        }
      },
      "source": [
        "model.fit(x_train, y_train,batch_size=batch_size,epochs=epochs,validation_data=(x_test, y_test),shuffle=True)"
      ],
      "execution_count": 22,
      "outputs": [
        {
          "output_type": "stream",
          "text": [
            "Train on 50000 samples, validate on 10000 samples\n",
            "Epoch 1/100\n",
            "50000/50000 [==============================] - 24s 478us/step - loss: 1.7935 - acc: 0.3442 - val_loss: 1.4944 - val_acc: 0.4597\n",
            "Epoch 2/100\n",
            "50000/50000 [==============================] - 22s 446us/step - loss: 1.4808 - acc: 0.4633 - val_loss: 1.3450 - val_acc: 0.5213\n",
            "Epoch 3/100\n",
            "50000/50000 [==============================] - 21s 420us/step - loss: 1.3442 - acc: 0.5203 - val_loss: 1.2457 - val_acc: 0.5665\n",
            "Epoch 4/100\n",
            "50000/50000 [==============================] - 21s 411us/step - loss: 1.2475 - acc: 0.5572 - val_loss: 1.2459 - val_acc: 0.5712\n",
            "Epoch 5/100\n",
            "50000/50000 [==============================] - 23s 452us/step - loss: 1.1664 - acc: 0.5903 - val_loss: 1.0918 - val_acc: 0.6097\n",
            "Epoch 6/100\n",
            "50000/50000 [==============================] - 23s 469us/step - loss: 1.0985 - acc: 0.6125 - val_loss: 1.0198 - val_acc: 0.6443\n",
            "Epoch 7/100\n",
            "50000/50000 [==============================] - 24s 470us/step - loss: 1.0388 - acc: 0.6362 - val_loss: 0.9644 - val_acc: 0.6669\n",
            "Epoch 8/100\n",
            "50000/50000 [==============================] - 24s 479us/step - loss: 0.9915 - acc: 0.6545 - val_loss: 0.9138 - val_acc: 0.6834\n",
            "Epoch 9/100\n",
            "50000/50000 [==============================] - 24s 477us/step - loss: 0.9527 - acc: 0.6671 - val_loss: 0.8752 - val_acc: 0.6972\n",
            "Epoch 10/100\n",
            "50000/50000 [==============================] - 24s 472us/step - loss: 0.9151 - acc: 0.6812 - val_loss: 0.8668 - val_acc: 0.7007\n",
            "Epoch 11/100\n",
            "50000/50000 [==============================] - 23s 465us/step - loss: 0.8813 - acc: 0.6923 - val_loss: 0.8217 - val_acc: 0.7160\n",
            "Epoch 12/100\n",
            "50000/50000 [==============================] - 23s 453us/step - loss: 0.8576 - acc: 0.7011 - val_loss: 0.8213 - val_acc: 0.7169\n",
            "Epoch 13/100\n",
            "50000/50000 [==============================] - 20s 405us/step - loss: 0.8321 - acc: 0.7110 - val_loss: 0.7965 - val_acc: 0.7246\n",
            "Epoch 14/100\n",
            "50000/50000 [==============================] - 22s 435us/step - loss: 0.8127 - acc: 0.7171 - val_loss: 0.8035 - val_acc: 0.7197\n",
            "Epoch 15/100\n",
            "50000/50000 [==============================] - 22s 436us/step - loss: 0.7945 - acc: 0.7260 - val_loss: 0.7832 - val_acc: 0.7307\n",
            "Epoch 16/100\n",
            "50000/50000 [==============================] - 22s 432us/step - loss: 0.7779 - acc: 0.7286 - val_loss: 0.7440 - val_acc: 0.7442\n",
            "Epoch 17/100\n",
            "50000/50000 [==============================] - 21s 430us/step - loss: 0.7692 - acc: 0.7331 - val_loss: 0.7388 - val_acc: 0.7431\n",
            "Epoch 18/100\n",
            "50000/50000 [==============================] - 21s 424us/step - loss: 0.7559 - acc: 0.7394 - val_loss: 0.7328 - val_acc: 0.7471\n",
            "Epoch 19/100\n",
            "50000/50000 [==============================] - 22s 435us/step - loss: 0.7450 - acc: 0.7433 - val_loss: 0.7506 - val_acc: 0.7448\n",
            "Epoch 20/100\n",
            "50000/50000 [==============================] - 22s 449us/step - loss: 0.7390 - acc: 0.7456 - val_loss: 0.7227 - val_acc: 0.7513\n",
            "Epoch 21/100\n",
            "50000/50000 [==============================] - 24s 473us/step - loss: 0.7305 - acc: 0.7503 - val_loss: 0.7603 - val_acc: 0.7470\n",
            "Epoch 22/100\n",
            "50000/50000 [==============================] - 23s 452us/step - loss: 0.7209 - acc: 0.7504 - val_loss: 0.7033 - val_acc: 0.7593\n",
            "Epoch 23/100\n",
            "50000/50000 [==============================] - 23s 461us/step - loss: 0.7119 - acc: 0.7559 - val_loss: 0.7293 - val_acc: 0.7497\n",
            "Epoch 24/100\n",
            "50000/50000 [==============================] - 23s 463us/step - loss: 0.7048 - acc: 0.7578 - val_loss: 0.6969 - val_acc: 0.7641\n",
            "Epoch 25/100\n",
            "50000/50000 [==============================] - 23s 457us/step - loss: 0.7023 - acc: 0.7614 - val_loss: 0.7516 - val_acc: 0.7488\n",
            "Epoch 26/100\n",
            "50000/50000 [==============================] - 23s 454us/step - loss: 0.6986 - acc: 0.7613 - val_loss: 0.7330 - val_acc: 0.7573\n",
            "Epoch 27/100\n",
            "50000/50000 [==============================] - 20s 408us/step - loss: 0.6968 - acc: 0.7622 - val_loss: 0.6864 - val_acc: 0.7657\n",
            "Epoch 28/100\n",
            "50000/50000 [==============================] - 21s 418us/step - loss: 0.6839 - acc: 0.7656 - val_loss: 0.6891 - val_acc: 0.7641\n",
            "Epoch 29/100\n",
            "50000/50000 [==============================] - 22s 431us/step - loss: 0.6798 - acc: 0.7694 - val_loss: 0.7154 - val_acc: 0.7650\n",
            "Epoch 30/100\n",
            "50000/50000 [==============================] - 21s 419us/step - loss: 0.6745 - acc: 0.7701 - val_loss: 0.6764 - val_acc: 0.7699\n",
            "Epoch 31/100\n",
            "50000/50000 [==============================] - 20s 408us/step - loss: 0.6753 - acc: 0.7708 - val_loss: 0.6541 - val_acc: 0.7760\n",
            "Epoch 32/100\n",
            "50000/50000 [==============================] - 22s 441us/step - loss: 0.6741 - acc: 0.7680 - val_loss: 0.6679 - val_acc: 0.7719\n",
            "Epoch 33/100\n",
            "50000/50000 [==============================] - 23s 458us/step - loss: 0.6684 - acc: 0.7733 - val_loss: 0.6545 - val_acc: 0.7801\n",
            "Epoch 34/100\n",
            "50000/50000 [==============================] - 21s 429us/step - loss: 0.6622 - acc: 0.7760 - val_loss: 0.6708 - val_acc: 0.7742\n",
            "Epoch 35/100\n",
            "50000/50000 [==============================] - 23s 453us/step - loss: 0.6627 - acc: 0.7750 - val_loss: 0.6754 - val_acc: 0.7747\n",
            "Epoch 36/100\n",
            "50000/50000 [==============================] - 23s 458us/step - loss: 0.6546 - acc: 0.7789 - val_loss: 0.6832 - val_acc: 0.7766\n",
            "Epoch 37/100\n",
            "50000/50000 [==============================] - 22s 449us/step - loss: 0.6532 - acc: 0.7791 - val_loss: 0.6514 - val_acc: 0.7790\n",
            "Epoch 38/100\n",
            "50000/50000 [==============================] - 23s 452us/step - loss: 0.6515 - acc: 0.7791 - val_loss: 0.6471 - val_acc: 0.7838\n",
            "Epoch 39/100\n",
            "50000/50000 [==============================] - 23s 450us/step - loss: 0.6491 - acc: 0.7807 - val_loss: 0.6442 - val_acc: 0.7826\n",
            "Epoch 40/100\n",
            "50000/50000 [==============================] - 21s 420us/step - loss: 0.6507 - acc: 0.7820 - val_loss: 0.7104 - val_acc: 0.7595\n",
            "Epoch 41/100\n",
            "50000/50000 [==============================] - 20s 410us/step - loss: 0.6422 - acc: 0.7851 - val_loss: 0.6484 - val_acc: 0.7831\n",
            "Epoch 42/100\n",
            "50000/50000 [==============================] - 24s 481us/step - loss: 0.6388 - acc: 0.7836 - val_loss: 0.7173 - val_acc: 0.7606\n",
            "Epoch 43/100\n",
            "50000/50000 [==============================] - 22s 447us/step - loss: 0.6376 - acc: 0.7843 - val_loss: 0.6364 - val_acc: 0.7828\n",
            "Epoch 44/100\n",
            "50000/50000 [==============================] - 22s 448us/step - loss: 0.6367 - acc: 0.7860 - val_loss: 0.6376 - val_acc: 0.7908\n",
            "Epoch 45/100\n",
            "50000/50000 [==============================] - 23s 452us/step - loss: 0.6328 - acc: 0.7860 - val_loss: 0.6852 - val_acc: 0.7793\n",
            "Epoch 46/100\n",
            "50000/50000 [==============================] - 24s 484us/step - loss: 0.6318 - acc: 0.7873 - val_loss: 0.6426 - val_acc: 0.7857\n",
            "Epoch 47/100\n",
            "50000/50000 [==============================] - 24s 475us/step - loss: 0.6225 - acc: 0.7909 - val_loss: 0.6386 - val_acc: 0.7861\n",
            "Epoch 48/100\n",
            "50000/50000 [==============================] - 24s 474us/step - loss: 0.6317 - acc: 0.7875 - val_loss: 0.6389 - val_acc: 0.7883\n",
            "Epoch 49/100\n",
            "50000/50000 [==============================] - 24s 485us/step - loss: 0.6271 - acc: 0.7903 - val_loss: 0.6368 - val_acc: 0.7878\n",
            "Epoch 50/100\n",
            "50000/50000 [==============================] - 24s 473us/step - loss: 0.6194 - acc: 0.7919 - val_loss: 0.6796 - val_acc: 0.7764\n",
            "Epoch 51/100\n",
            "50000/50000 [==============================] - 25s 492us/step - loss: 0.6212 - acc: 0.7917 - val_loss: 0.6797 - val_acc: 0.7765\n",
            "Epoch 52/100\n",
            "50000/50000 [==============================] - 25s 493us/step - loss: 0.6197 - acc: 0.7911 - val_loss: 0.6490 - val_acc: 0.7844\n",
            "Epoch 53/100\n",
            "50000/50000 [==============================] - 22s 447us/step - loss: 0.6198 - acc: 0.7926 - val_loss: 0.6657 - val_acc: 0.7804\n",
            "Epoch 54/100\n",
            "50000/50000 [==============================] - 24s 473us/step - loss: 0.6180 - acc: 0.7939 - val_loss: 0.6385 - val_acc: 0.7889\n",
            "Epoch 55/100\n",
            "50000/50000 [==============================] - 24s 481us/step - loss: 0.6125 - acc: 0.7939 - val_loss: 0.6339 - val_acc: 0.7904\n",
            "Epoch 56/100\n",
            "50000/50000 [==============================] - 23s 453us/step - loss: 0.6150 - acc: 0.7949 - val_loss: 0.6517 - val_acc: 0.7837\n",
            "Epoch 57/100\n",
            "50000/50000 [==============================] - 23s 458us/step - loss: 0.6092 - acc: 0.7976 - val_loss: 0.6863 - val_acc: 0.7834\n",
            "Epoch 58/100\n",
            "50000/50000 [==============================] - 24s 482us/step - loss: 0.6154 - acc: 0.7929 - val_loss: 0.6609 - val_acc: 0.7774\n",
            "Epoch 59/100\n",
            "50000/50000 [==============================] - 24s 484us/step - loss: 0.6107 - acc: 0.7974 - val_loss: 0.6318 - val_acc: 0.7914\n",
            "Epoch 60/100\n",
            "50000/50000 [==============================] - 24s 480us/step - loss: 0.6121 - acc: 0.7952 - val_loss: 0.6560 - val_acc: 0.7851\n",
            "Epoch 61/100\n",
            "50000/50000 [==============================] - 24s 485us/step - loss: 0.6116 - acc: 0.7982 - val_loss: 0.6259 - val_acc: 0.7902\n",
            "Epoch 62/100\n",
            "50000/50000 [==============================] - 24s 488us/step - loss: 0.6076 - acc: 0.7978 - val_loss: 0.6495 - val_acc: 0.7911\n",
            "Epoch 63/100\n",
            "50000/50000 [==============================] - 25s 493us/step - loss: 0.6075 - acc: 0.7963 - val_loss: 0.6322 - val_acc: 0.7880\n",
            "Epoch 64/100\n",
            "50000/50000 [==============================] - 25s 490us/step - loss: 0.6029 - acc: 0.7999 - val_loss: 0.6349 - val_acc: 0.7946\n",
            "Epoch 65/100\n",
            "50000/50000 [==============================] - 24s 477us/step - loss: 0.6086 - acc: 0.7975 - val_loss: 0.6190 - val_acc: 0.7949\n",
            "Epoch 66/100\n",
            "50000/50000 [==============================] - 25s 493us/step - loss: 0.6042 - acc: 0.7984 - val_loss: 0.6627 - val_acc: 0.7773\n",
            "Epoch 67/100\n",
            "50000/50000 [==============================] - 24s 476us/step - loss: 0.5978 - acc: 0.8012 - val_loss: 0.6730 - val_acc: 0.7803\n",
            "Epoch 68/100\n",
            "50000/50000 [==============================] - 23s 465us/step - loss: 0.6058 - acc: 0.8000 - val_loss: 0.6918 - val_acc: 0.7727\n",
            "Epoch 69/100\n",
            "50000/50000 [==============================] - 23s 457us/step - loss: 0.6007 - acc: 0.7992 - val_loss: 0.6489 - val_acc: 0.7828\n",
            "Epoch 70/100\n",
            "50000/50000 [==============================] - 24s 472us/step - loss: 0.5982 - acc: 0.8027 - val_loss: 0.6345 - val_acc: 0.7882\n",
            "Epoch 71/100\n",
            "50000/50000 [==============================] - 25s 506us/step - loss: 0.5995 - acc: 0.7993 - val_loss: 0.7496 - val_acc: 0.7483\n",
            "Epoch 72/100\n",
            "50000/50000 [==============================] - 24s 475us/step - loss: 0.6020 - acc: 0.7976 - val_loss: 0.6404 - val_acc: 0.7875\n",
            "Epoch 73/100\n",
            "50000/50000 [==============================] - 26s 512us/step - loss: 0.5966 - acc: 0.8008 - val_loss: 0.6314 - val_acc: 0.7920\n",
            "Epoch 74/100\n",
            "50000/50000 [==============================] - 24s 488us/step - loss: 0.6020 - acc: 0.7992 - val_loss: 0.6783 - val_acc: 0.7855\n",
            "Epoch 75/100\n",
            "50000/50000 [==============================] - 26s 510us/step - loss: 0.5983 - acc: 0.8015 - val_loss: 0.6634 - val_acc: 0.7920\n",
            "Epoch 76/100\n",
            "50000/50000 [==============================] - 25s 498us/step - loss: 0.6020 - acc: 0.8004 - val_loss: 0.6828 - val_acc: 0.7788\n",
            "Epoch 77/100\n",
            "50000/50000 [==============================] - 25s 502us/step - loss: 0.5947 - acc: 0.8021 - val_loss: 0.6438 - val_acc: 0.7906\n",
            "Epoch 78/100\n",
            "50000/50000 [==============================] - 24s 479us/step - loss: 0.6000 - acc: 0.8008 - val_loss: 0.6774 - val_acc: 0.7800\n",
            "Epoch 79/100\n",
            "50000/50000 [==============================] - 23s 469us/step - loss: 0.5970 - acc: 0.8003 - val_loss: 0.7001 - val_acc: 0.7753\n",
            "Epoch 80/100\n",
            "50000/50000 [==============================] - 24s 472us/step - loss: 0.6029 - acc: 0.8010 - val_loss: 0.6281 - val_acc: 0.7917\n",
            "Epoch 81/100\n",
            "50000/50000 [==============================] - 25s 491us/step - loss: 0.6000 - acc: 0.8016 - val_loss: 0.6325 - val_acc: 0.7923\n",
            "Epoch 82/100\n",
            "50000/50000 [==============================] - 24s 474us/step - loss: 0.5961 - acc: 0.8006 - val_loss: 0.7819 - val_acc: 0.7445\n",
            "Epoch 83/100\n",
            "50000/50000 [==============================] - 23s 461us/step - loss: 0.5968 - acc: 0.8033 - val_loss: 0.7847 - val_acc: 0.7608\n",
            "Epoch 84/100\n",
            "50000/50000 [==============================] - 24s 489us/step - loss: 0.5975 - acc: 0.8004 - val_loss: 0.6702 - val_acc: 0.7795\n",
            "Epoch 85/100\n",
            "50000/50000 [==============================] - 25s 505us/step - loss: 0.5958 - acc: 0.8009 - val_loss: 0.6421 - val_acc: 0.7945\n",
            "Epoch 86/100\n",
            "50000/50000 [==============================] - 25s 498us/step - loss: 0.6019 - acc: 0.8009 - val_loss: 0.6789 - val_acc: 0.7785\n",
            "Epoch 87/100\n",
            "50000/50000 [==============================] - 25s 504us/step - loss: 0.6014 - acc: 0.8005 - val_loss: 0.6804 - val_acc: 0.7820\n",
            "Epoch 88/100\n",
            "50000/50000 [==============================] - 25s 507us/step - loss: 0.5939 - acc: 0.8021 - val_loss: 0.7486 - val_acc: 0.7800\n",
            "Epoch 89/100\n",
            "50000/50000 [==============================] - 26s 514us/step - loss: 0.5908 - acc: 0.8035 - val_loss: 0.6448 - val_acc: 0.7907\n",
            "Epoch 90/100\n",
            "50000/50000 [==============================] - 23s 452us/step - loss: 0.6024 - acc: 0.8025 - val_loss: 0.6461 - val_acc: 0.7926\n",
            "Epoch 91/100\n",
            "50000/50000 [==============================] - 22s 441us/step - loss: 0.5949 - acc: 0.8025 - val_loss: 0.7487 - val_acc: 0.7601\n",
            "Epoch 92/100\n",
            "50000/50000 [==============================] - 23s 468us/step - loss: 0.5980 - acc: 0.8018 - val_loss: 0.6883 - val_acc: 0.7775\n",
            "Epoch 93/100\n",
            "50000/50000 [==============================] - 23s 461us/step - loss: 0.5944 - acc: 0.8036 - val_loss: 0.7788 - val_acc: 0.7528\n",
            "Epoch 94/100\n",
            "50000/50000 [==============================] - 23s 450us/step - loss: 0.5972 - acc: 0.8024 - val_loss: 0.6781 - val_acc: 0.7823\n",
            "Epoch 95/100\n",
            "50000/50000 [==============================] - 24s 479us/step - loss: 0.5935 - acc: 0.8021 - val_loss: 0.6761 - val_acc: 0.7811\n",
            "Epoch 96/100\n",
            "50000/50000 [==============================] - 24s 472us/step - loss: 0.5926 - acc: 0.8016 - val_loss: 0.6467 - val_acc: 0.7887\n",
            "Epoch 97/100\n",
            "50000/50000 [==============================] - 25s 493us/step - loss: 0.5959 - acc: 0.8027 - val_loss: 0.7035 - val_acc: 0.7757\n",
            "Epoch 98/100\n",
            "50000/50000 [==============================] - 26s 515us/step - loss: 0.5925 - acc: 0.8010 - val_loss: 0.7826 - val_acc: 0.7374\n",
            "Epoch 99/100\n",
            "50000/50000 [==============================] - 25s 502us/step - loss: 0.6006 - acc: 0.8017 - val_loss: 0.7092 - val_acc: 0.7668\n",
            "Epoch 100/100\n",
            "50000/50000 [==============================] - 25s 492us/step - loss: 0.6000 - acc: 0.8003 - val_loss: 0.7222 - val_acc: 0.7715\n"
          ],
          "name": "stdout"
        },
        {
          "output_type": "execute_result",
          "data": {
            "text/plain": [
              "<keras.callbacks.History at 0x7f6cb0109400>"
            ]
          },
          "metadata": {
            "tags": []
          },
          "execution_count": 22
        }
      ]
    },
    {
      "cell_type": "code",
      "metadata": {
        "id": "96WLdSLlvAPC",
        "colab_type": "code",
        "colab": {
          "base_uri": "https://localhost:8080/",
          "height": 68
        },
        "outputId": "4c5a15db-e071-4e12-f56e-c24ea2b1b31e"
      },
      "source": [
        "scores = model.evaluate(x_test, y_test, verbose=1)\n",
        "print('Test loss:', scores[0])\n",
        "print('Test accuracy:', scores[1])"
      ],
      "execution_count": 27,
      "outputs": [
        {
          "output_type": "stream",
          "text": [
            "10000/10000 [==============================] - 2s 198us/step\n",
            "Test loss: 0.7222435667991638\n",
            "Test accuracy: 0.7715\n"
          ],
          "name": "stdout"
        }
      ]
    }
  ]
}